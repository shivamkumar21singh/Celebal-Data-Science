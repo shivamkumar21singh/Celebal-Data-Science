{
  "nbformat": 4,
  "nbformat_minor": 0,
  "metadata": {
    "colab": {
      "provenance": []
    },
    "kernelspec": {
      "name": "python3",
      "display_name": "Python 3"
    },
    "language_info": {
      "name": "python"
    }
  },
  "cells": [
    {
      "cell_type": "code",
      "execution_count": null,
      "metadata": {
        "id": "MgqmP1dr4cIo"
      },
      "outputs": [],
      "source": [
        "import pandas as pd\n",
        "from sklearn.preprocessing import StandardScaler, LabelEncoder\n",
        "from sklearn.model_selection import train_test_split"
      ]
    },
    {
      "cell_type": "code",
      "source": [
        "df = pd.read_csv('customer_churn_data.csv')"
      ],
      "metadata": {
        "id": "8SudBMUO4zQR"
      },
      "execution_count": null,
      "outputs": []
    },
    {
      "cell_type": "code",
      "source": [
        "df.shape"
      ],
      "metadata": {
        "colab": {
          "base_uri": "https://localhost:8080/"
        },
        "id": "rQPE6Ber92CX",
        "outputId": "ff866938-88bb-4975-fcc9-dd9da3deecda"
      },
      "execution_count": 20,
      "outputs": [
        {
          "output_type": "execute_result",
          "data": {
            "text/plain": [
              "(5880, 33)"
            ]
          },
          "metadata": {},
          "execution_count": 20
        }
      ]
    },
    {
      "cell_type": "code",
      "source": [
        "df.info()"
      ],
      "metadata": {
        "colab": {
          "base_uri": "https://localhost:8080/"
        },
        "id": "Kfb7YurL96M-",
        "outputId": "def893e4-780e-4b38-f334-72565b248585"
      },
      "execution_count": 22,
      "outputs": [
        {
          "output_type": "stream",
          "name": "stdout",
          "text": [
            "<class 'pandas.core.frame.DataFrame'>\n",
            "RangeIndex: 5880 entries, 0 to 5879\n",
            "Data columns (total 33 columns):\n",
            " #   Column                                Non-Null Count  Dtype  \n",
            "---  ------                                --------------  -----  \n",
            " 0   customerID                            5880 non-null   object \n",
            " 1   SeniorCitizen                         5880 non-null   bool   \n",
            " 2   tenure                                5880 non-null   float64\n",
            " 3   MonthlyCharges                        5880 non-null   float64\n",
            " 4   TotalCharges                          5880 non-null   float64\n",
            " 5   Churn                                 5880 non-null   int64  \n",
            " 6   gender_Male                           5880 non-null   bool   \n",
            " 7   Partner_Yes                           5880 non-null   bool   \n",
            " 8   Dependents_Yes                        5880 non-null   bool   \n",
            " 9   PhoneService_Yes                      5880 non-null   bool   \n",
            " 10  MultipleLines_No phone service        5880 non-null   bool   \n",
            " 11  MultipleLines_Yes                     5880 non-null   bool   \n",
            " 12  InternetService_Fiber optic           5880 non-null   bool   \n",
            " 13  InternetService_No                    5880 non-null   bool   \n",
            " 14  OnlineSecurity_No internet service    5880 non-null   bool   \n",
            " 15  OnlineSecurity_Yes                    5880 non-null   bool   \n",
            " 16  OnlineBackup_No internet service      5880 non-null   bool   \n",
            " 17  OnlineBackup_Yes                      5880 non-null   bool   \n",
            " 18  DeviceProtection_No internet service  5880 non-null   bool   \n",
            " 19  DeviceProtection_Yes                  5880 non-null   bool   \n",
            " 20  TechSupport_No internet service       5880 non-null   bool   \n",
            " 21  TechSupport_Yes                       5880 non-null   bool   \n",
            " 22  StreamingTV_No internet service       5880 non-null   bool   \n",
            " 23  StreamingTV_Yes                       5880 non-null   bool   \n",
            " 24  StreamingMovies_No internet service   5880 non-null   bool   \n",
            " 25  StreamingMovies_Yes                   5880 non-null   bool   \n",
            " 26  Contract_One year                     5880 non-null   bool   \n",
            " 27  Contract_Two year                     5880 non-null   bool   \n",
            " 28  PaperlessBilling_Yes                  5880 non-null   bool   \n",
            " 29  PaymentMethod_Credit card             5880 non-null   bool   \n",
            " 30  PaymentMethod_Electronic check        5880 non-null   bool   \n",
            " 31  PaymentMethod_Mailed check            5880 non-null   bool   \n",
            " 32  MultipleServices                      5880 non-null   int64  \n",
            "dtypes: bool(27), float64(3), int64(2), object(1)\n",
            "memory usage: 430.8+ KB\n"
          ]
        }
      ]
    },
    {
      "cell_type": "code",
      "source": [
        "df.head()"
      ],
      "metadata": {
        "colab": {
          "base_uri": "https://localhost:8080/",
          "height": 273
        },
        "id": "jq5tmYvz94Qg",
        "outputId": "d89b53d9-0626-470c-a14c-ea0ef44dafed"
      },
      "execution_count": 21,
      "outputs": [
        {
          "output_type": "execute_result",
          "data": {
            "text/plain": [
              "  customerID  SeniorCitizen    tenure  MonthlyCharges  TotalCharges  Churn  \\\n",
              "0   CUST0000          False -0.648040       -0.705078     -0.743650      0   \n",
              "1   CUST0001          False  0.308537        1.060414      0.923257      1   \n",
              "2   CUST0002           True  0.691167        0.943409      1.255078      1   \n",
              "3   CUST0003           True  1.695572        1.084023      2.477961      0   \n",
              "4   CUST0004           True -0.552382       -0.622793     -0.660423      1   \n",
              "\n",
              "   gender_Male  Partner_Yes  Dependents_Yes  PhoneService_Yes  ...  \\\n",
              "0         True        False            True             False  ...   \n",
              "1        False         True           False             False  ...   \n",
              "2         True        False           False              True  ...   \n",
              "3         True        False           False              True  ...   \n",
              "4         True        False           False              True  ...   \n",
              "\n",
              "   StreamingTV_Yes  StreamingMovies_No internet service  StreamingMovies_Yes  \\\n",
              "0            False                                 True                False   \n",
              "1             True                                False                False   \n",
              "2            False                                False                False   \n",
              "3            False                                False                False   \n",
              "4            False                                False                 True   \n",
              "\n",
              "   Contract_One year  Contract_Two year  PaperlessBilling_Yes  \\\n",
              "0              False              False                  True   \n",
              "1              False              False                 False   \n",
              "2               True              False                 False   \n",
              "3              False              False                 False   \n",
              "4              False              False                 False   \n",
              "\n",
              "   PaymentMethod_Credit card  PaymentMethod_Electronic check  \\\n",
              "0                      False                           False   \n",
              "1                      False                           False   \n",
              "2                      False                            True   \n",
              "3                       True                           False   \n",
              "4                      False                            True   \n",
              "\n",
              "   PaymentMethod_Mailed check  MultipleServices  \n",
              "0                       False                 6  \n",
              "1                        True                 0  \n",
              "2                       False                 0  \n",
              "3                       False                 0  \n",
              "4                       False                 0  \n",
              "\n",
              "[5 rows x 33 columns]"
            ],
            "text/html": [
              "\n",
              "  <div id=\"df-a03a86ab-2dbf-4391-ad96-395f97bd0533\" class=\"colab-df-container\">\n",
              "    <div>\n",
              "<style scoped>\n",
              "    .dataframe tbody tr th:only-of-type {\n",
              "        vertical-align: middle;\n",
              "    }\n",
              "\n",
              "    .dataframe tbody tr th {\n",
              "        vertical-align: top;\n",
              "    }\n",
              "\n",
              "    .dataframe thead th {\n",
              "        text-align: right;\n",
              "    }\n",
              "</style>\n",
              "<table border=\"1\" class=\"dataframe\">\n",
              "  <thead>\n",
              "    <tr style=\"text-align: right;\">\n",
              "      <th></th>\n",
              "      <th>customerID</th>\n",
              "      <th>SeniorCitizen</th>\n",
              "      <th>tenure</th>\n",
              "      <th>MonthlyCharges</th>\n",
              "      <th>TotalCharges</th>\n",
              "      <th>Churn</th>\n",
              "      <th>gender_Male</th>\n",
              "      <th>Partner_Yes</th>\n",
              "      <th>Dependents_Yes</th>\n",
              "      <th>PhoneService_Yes</th>\n",
              "      <th>...</th>\n",
              "      <th>StreamingTV_Yes</th>\n",
              "      <th>StreamingMovies_No internet service</th>\n",
              "      <th>StreamingMovies_Yes</th>\n",
              "      <th>Contract_One year</th>\n",
              "      <th>Contract_Two year</th>\n",
              "      <th>PaperlessBilling_Yes</th>\n",
              "      <th>PaymentMethod_Credit card</th>\n",
              "      <th>PaymentMethod_Electronic check</th>\n",
              "      <th>PaymentMethod_Mailed check</th>\n",
              "      <th>MultipleServices</th>\n",
              "    </tr>\n",
              "  </thead>\n",
              "  <tbody>\n",
              "    <tr>\n",
              "      <th>0</th>\n",
              "      <td>CUST0000</td>\n",
              "      <td>False</td>\n",
              "      <td>-0.648040</td>\n",
              "      <td>-0.705078</td>\n",
              "      <td>-0.743650</td>\n",
              "      <td>0</td>\n",
              "      <td>True</td>\n",
              "      <td>False</td>\n",
              "      <td>True</td>\n",
              "      <td>False</td>\n",
              "      <td>...</td>\n",
              "      <td>False</td>\n",
              "      <td>True</td>\n",
              "      <td>False</td>\n",
              "      <td>False</td>\n",
              "      <td>False</td>\n",
              "      <td>True</td>\n",
              "      <td>False</td>\n",
              "      <td>False</td>\n",
              "      <td>False</td>\n",
              "      <td>6</td>\n",
              "    </tr>\n",
              "    <tr>\n",
              "      <th>1</th>\n",
              "      <td>CUST0001</td>\n",
              "      <td>False</td>\n",
              "      <td>0.308537</td>\n",
              "      <td>1.060414</td>\n",
              "      <td>0.923257</td>\n",
              "      <td>1</td>\n",
              "      <td>False</td>\n",
              "      <td>True</td>\n",
              "      <td>False</td>\n",
              "      <td>False</td>\n",
              "      <td>...</td>\n",
              "      <td>True</td>\n",
              "      <td>False</td>\n",
              "      <td>False</td>\n",
              "      <td>False</td>\n",
              "      <td>False</td>\n",
              "      <td>False</td>\n",
              "      <td>False</td>\n",
              "      <td>False</td>\n",
              "      <td>True</td>\n",
              "      <td>0</td>\n",
              "    </tr>\n",
              "    <tr>\n",
              "      <th>2</th>\n",
              "      <td>CUST0002</td>\n",
              "      <td>True</td>\n",
              "      <td>0.691167</td>\n",
              "      <td>0.943409</td>\n",
              "      <td>1.255078</td>\n",
              "      <td>1</td>\n",
              "      <td>True</td>\n",
              "      <td>False</td>\n",
              "      <td>False</td>\n",
              "      <td>True</td>\n",
              "      <td>...</td>\n",
              "      <td>False</td>\n",
              "      <td>False</td>\n",
              "      <td>False</td>\n",
              "      <td>True</td>\n",
              "      <td>False</td>\n",
              "      <td>False</td>\n",
              "      <td>False</td>\n",
              "      <td>True</td>\n",
              "      <td>False</td>\n",
              "      <td>0</td>\n",
              "    </tr>\n",
              "    <tr>\n",
              "      <th>3</th>\n",
              "      <td>CUST0003</td>\n",
              "      <td>True</td>\n",
              "      <td>1.695572</td>\n",
              "      <td>1.084023</td>\n",
              "      <td>2.477961</td>\n",
              "      <td>0</td>\n",
              "      <td>True</td>\n",
              "      <td>False</td>\n",
              "      <td>False</td>\n",
              "      <td>True</td>\n",
              "      <td>...</td>\n",
              "      <td>False</td>\n",
              "      <td>False</td>\n",
              "      <td>False</td>\n",
              "      <td>False</td>\n",
              "      <td>False</td>\n",
              "      <td>False</td>\n",
              "      <td>True</td>\n",
              "      <td>False</td>\n",
              "      <td>False</td>\n",
              "      <td>0</td>\n",
              "    </tr>\n",
              "    <tr>\n",
              "      <th>4</th>\n",
              "      <td>CUST0004</td>\n",
              "      <td>True</td>\n",
              "      <td>-0.552382</td>\n",
              "      <td>-0.622793</td>\n",
              "      <td>-0.660423</td>\n",
              "      <td>1</td>\n",
              "      <td>True</td>\n",
              "      <td>False</td>\n",
              "      <td>False</td>\n",
              "      <td>True</td>\n",
              "      <td>...</td>\n",
              "      <td>False</td>\n",
              "      <td>False</td>\n",
              "      <td>True</td>\n",
              "      <td>False</td>\n",
              "      <td>False</td>\n",
              "      <td>False</td>\n",
              "      <td>False</td>\n",
              "      <td>True</td>\n",
              "      <td>False</td>\n",
              "      <td>0</td>\n",
              "    </tr>\n",
              "  </tbody>\n",
              "</table>\n",
              "<p>5 rows × 33 columns</p>\n",
              "</div>\n",
              "    <div class=\"colab-df-buttons\">\n",
              "\n",
              "  <div class=\"colab-df-container\">\n",
              "    <button class=\"colab-df-convert\" onclick=\"convertToInteractive('df-a03a86ab-2dbf-4391-ad96-395f97bd0533')\"\n",
              "            title=\"Convert this dataframe to an interactive table.\"\n",
              "            style=\"display:none;\">\n",
              "\n",
              "  <svg xmlns=\"http://www.w3.org/2000/svg\" height=\"24px\" viewBox=\"0 -960 960 960\">\n",
              "    <path d=\"M120-120v-720h720v720H120Zm60-500h600v-160H180v160Zm220 220h160v-160H400v160Zm0 220h160v-160H400v160ZM180-400h160v-160H180v160Zm440 0h160v-160H620v160ZM180-180h160v-160H180v160Zm440 0h160v-160H620v160Z\"/>\n",
              "  </svg>\n",
              "    </button>\n",
              "\n",
              "  <style>\n",
              "    .colab-df-container {\n",
              "      display:flex;\n",
              "      gap: 12px;\n",
              "    }\n",
              "\n",
              "    .colab-df-convert {\n",
              "      background-color: #E8F0FE;\n",
              "      border: none;\n",
              "      border-radius: 50%;\n",
              "      cursor: pointer;\n",
              "      display: none;\n",
              "      fill: #1967D2;\n",
              "      height: 32px;\n",
              "      padding: 0 0 0 0;\n",
              "      width: 32px;\n",
              "    }\n",
              "\n",
              "    .colab-df-convert:hover {\n",
              "      background-color: #E2EBFA;\n",
              "      box-shadow: 0px 1px 2px rgba(60, 64, 67, 0.3), 0px 1px 3px 1px rgba(60, 64, 67, 0.15);\n",
              "      fill: #174EA6;\n",
              "    }\n",
              "\n",
              "    .colab-df-buttons div {\n",
              "      margin-bottom: 4px;\n",
              "    }\n",
              "\n",
              "    [theme=dark] .colab-df-convert {\n",
              "      background-color: #3B4455;\n",
              "      fill: #D2E3FC;\n",
              "    }\n",
              "\n",
              "    [theme=dark] .colab-df-convert:hover {\n",
              "      background-color: #434B5C;\n",
              "      box-shadow: 0px 1px 3px 1px rgba(0, 0, 0, 0.15);\n",
              "      filter: drop-shadow(0px 1px 2px rgba(0, 0, 0, 0.3));\n",
              "      fill: #FFFFFF;\n",
              "    }\n",
              "  </style>\n",
              "\n",
              "    <script>\n",
              "      const buttonEl =\n",
              "        document.querySelector('#df-a03a86ab-2dbf-4391-ad96-395f97bd0533 button.colab-df-convert');\n",
              "      buttonEl.style.display =\n",
              "        google.colab.kernel.accessAllowed ? 'block' : 'none';\n",
              "\n",
              "      async function convertToInteractive(key) {\n",
              "        const element = document.querySelector('#df-a03a86ab-2dbf-4391-ad96-395f97bd0533');\n",
              "        const dataTable =\n",
              "          await google.colab.kernel.invokeFunction('convertToInteractive',\n",
              "                                                    [key], {});\n",
              "        if (!dataTable) return;\n",
              "\n",
              "        const docLinkHtml = 'Like what you see? Visit the ' +\n",
              "          '<a target=\"_blank\" href=https://colab.research.google.com/notebooks/data_table.ipynb>data table notebook</a>'\n",
              "          + ' to learn more about interactive tables.';\n",
              "        element.innerHTML = '';\n",
              "        dataTable['output_type'] = 'display_data';\n",
              "        await google.colab.output.renderOutput(dataTable, element);\n",
              "        const docLink = document.createElement('div');\n",
              "        docLink.innerHTML = docLinkHtml;\n",
              "        element.appendChild(docLink);\n",
              "      }\n",
              "    </script>\n",
              "  </div>\n",
              "\n",
              "\n",
              "<div id=\"df-3bf3941e-fd1d-4d3c-99fc-e2db3f36d8ab\">\n",
              "  <button class=\"colab-df-quickchart\" onclick=\"quickchart('df-3bf3941e-fd1d-4d3c-99fc-e2db3f36d8ab')\"\n",
              "            title=\"Suggest charts\"\n",
              "            style=\"display:none;\">\n",
              "\n",
              "<svg xmlns=\"http://www.w3.org/2000/svg\" height=\"24px\"viewBox=\"0 0 24 24\"\n",
              "     width=\"24px\">\n",
              "    <g>\n",
              "        <path d=\"M19 3H5c-1.1 0-2 .9-2 2v14c0 1.1.9 2 2 2h14c1.1 0 2-.9 2-2V5c0-1.1-.9-2-2-2zM9 17H7v-7h2v7zm4 0h-2V7h2v10zm4 0h-2v-4h2v4z\"/>\n",
              "    </g>\n",
              "</svg>\n",
              "  </button>\n",
              "\n",
              "<style>\n",
              "  .colab-df-quickchart {\n",
              "      --bg-color: #E8F0FE;\n",
              "      --fill-color: #1967D2;\n",
              "      --hover-bg-color: #E2EBFA;\n",
              "      --hover-fill-color: #174EA6;\n",
              "      --disabled-fill-color: #AAA;\n",
              "      --disabled-bg-color: #DDD;\n",
              "  }\n",
              "\n",
              "  [theme=dark] .colab-df-quickchart {\n",
              "      --bg-color: #3B4455;\n",
              "      --fill-color: #D2E3FC;\n",
              "      --hover-bg-color: #434B5C;\n",
              "      --hover-fill-color: #FFFFFF;\n",
              "      --disabled-bg-color: #3B4455;\n",
              "      --disabled-fill-color: #666;\n",
              "  }\n",
              "\n",
              "  .colab-df-quickchart {\n",
              "    background-color: var(--bg-color);\n",
              "    border: none;\n",
              "    border-radius: 50%;\n",
              "    cursor: pointer;\n",
              "    display: none;\n",
              "    fill: var(--fill-color);\n",
              "    height: 32px;\n",
              "    padding: 0;\n",
              "    width: 32px;\n",
              "  }\n",
              "\n",
              "  .colab-df-quickchart:hover {\n",
              "    background-color: var(--hover-bg-color);\n",
              "    box-shadow: 0 1px 2px rgba(60, 64, 67, 0.3), 0 1px 3px 1px rgba(60, 64, 67, 0.15);\n",
              "    fill: var(--button-hover-fill-color);\n",
              "  }\n",
              "\n",
              "  .colab-df-quickchart-complete:disabled,\n",
              "  .colab-df-quickchart-complete:disabled:hover {\n",
              "    background-color: var(--disabled-bg-color);\n",
              "    fill: var(--disabled-fill-color);\n",
              "    box-shadow: none;\n",
              "  }\n",
              "\n",
              "  .colab-df-spinner {\n",
              "    border: 2px solid var(--fill-color);\n",
              "    border-color: transparent;\n",
              "    border-bottom-color: var(--fill-color);\n",
              "    animation:\n",
              "      spin 1s steps(1) infinite;\n",
              "  }\n",
              "\n",
              "  @keyframes spin {\n",
              "    0% {\n",
              "      border-color: transparent;\n",
              "      border-bottom-color: var(--fill-color);\n",
              "      border-left-color: var(--fill-color);\n",
              "    }\n",
              "    20% {\n",
              "      border-color: transparent;\n",
              "      border-left-color: var(--fill-color);\n",
              "      border-top-color: var(--fill-color);\n",
              "    }\n",
              "    30% {\n",
              "      border-color: transparent;\n",
              "      border-left-color: var(--fill-color);\n",
              "      border-top-color: var(--fill-color);\n",
              "      border-right-color: var(--fill-color);\n",
              "    }\n",
              "    40% {\n",
              "      border-color: transparent;\n",
              "      border-right-color: var(--fill-color);\n",
              "      border-top-color: var(--fill-color);\n",
              "    }\n",
              "    60% {\n",
              "      border-color: transparent;\n",
              "      border-right-color: var(--fill-color);\n",
              "    }\n",
              "    80% {\n",
              "      border-color: transparent;\n",
              "      border-right-color: var(--fill-color);\n",
              "      border-bottom-color: var(--fill-color);\n",
              "    }\n",
              "    90% {\n",
              "      border-color: transparent;\n",
              "      border-bottom-color: var(--fill-color);\n",
              "    }\n",
              "  }\n",
              "</style>\n",
              "\n",
              "  <script>\n",
              "    async function quickchart(key) {\n",
              "      const quickchartButtonEl =\n",
              "        document.querySelector('#' + key + ' button');\n",
              "      quickchartButtonEl.disabled = true;  // To prevent multiple clicks.\n",
              "      quickchartButtonEl.classList.add('colab-df-spinner');\n",
              "      try {\n",
              "        const charts = await google.colab.kernel.invokeFunction(\n",
              "            'suggestCharts', [key], {});\n",
              "      } catch (error) {\n",
              "        console.error('Error during call to suggestCharts:', error);\n",
              "      }\n",
              "      quickchartButtonEl.classList.remove('colab-df-spinner');\n",
              "      quickchartButtonEl.classList.add('colab-df-quickchart-complete');\n",
              "    }\n",
              "    (() => {\n",
              "      let quickchartButtonEl =\n",
              "        document.querySelector('#df-3bf3941e-fd1d-4d3c-99fc-e2db3f36d8ab button');\n",
              "      quickchartButtonEl.style.display =\n",
              "        google.colab.kernel.accessAllowed ? 'block' : 'none';\n",
              "    })();\n",
              "  </script>\n",
              "</div>\n",
              "\n",
              "    </div>\n",
              "  </div>\n"
            ],
            "application/vnd.google.colaboratory.intrinsic+json": {
              "type": "dataframe",
              "variable_name": "df"
            }
          },
          "metadata": {},
          "execution_count": 21
        }
      ]
    },
    {
      "cell_type": "markdown",
      "source": [
        "# Handle missing values"
      ],
      "metadata": {
        "id": "1vGzHxso5fsT"
      }
    },
    {
      "cell_type": "code",
      "source": [
        "# Checking for missing values\n",
        "missing_values = df.isnull().sum()\n",
        "print(\"Missing values in each column:\")\n",
        "print(missing_values)"
      ],
      "metadata": {
        "colab": {
          "base_uri": "https://localhost:8080/"
        },
        "id": "9vwcAhbK5GIS",
        "outputId": "723f3bd7-2bf3-4ed0-e085-8a26dd62465f"
      },
      "execution_count": null,
      "outputs": [
        {
          "output_type": "stream",
          "name": "stdout",
          "text": [
            "Missing values in each column:\n",
            "customerID                              0\n",
            "SeniorCitizen                           0\n",
            "tenure                                  0\n",
            "MonthlyCharges                          0\n",
            "TotalCharges                            0\n",
            "Churn                                   0\n",
            "gender_Male                             0\n",
            "Partner_Yes                             0\n",
            "Dependents_Yes                          0\n",
            "PhoneService_Yes                        0\n",
            "MultipleLines_No phone service          0\n",
            "MultipleLines_Yes                       0\n",
            "InternetService_Fiber optic             0\n",
            "InternetService_No                      0\n",
            "OnlineSecurity_No internet service      0\n",
            "OnlineSecurity_Yes                      0\n",
            "OnlineBackup_No internet service        0\n",
            "OnlineBackup_Yes                        0\n",
            "DeviceProtection_No internet service    0\n",
            "DeviceProtection_Yes                    0\n",
            "TechSupport_No internet service         0\n",
            "TechSupport_Yes                         0\n",
            "StreamingTV_No internet service         0\n",
            "StreamingTV_Yes                         0\n",
            "StreamingMovies_No internet service     0\n",
            "StreamingMovies_Yes                     0\n",
            "Contract_One year                       0\n",
            "Contract_Two year                       0\n",
            "PaperlessBilling_Yes                    0\n",
            "PaymentMethod_Credit card               0\n",
            "PaymentMethod_Electronic check          0\n",
            "PaymentMethod_Mailed check              0\n",
            "dtype: int64\n"
          ]
        }
      ]
    },
    {
      "cell_type": "code",
      "source": [
        "# Fill missing values in 'TotalCharges' with the median\n",
        "df['TotalCharges'] = pd.to_numeric(df['TotalCharges'], errors='coerce')\n",
        "df['TotalCharges'].fillna(df['TotalCharges'].median(), inplace=True)"
      ],
      "metadata": {
        "id": "sNpoHic45MEO"
      },
      "execution_count": null,
      "outputs": []
    },
    {
      "cell_type": "markdown",
      "source": [
        "# Transform data types"
      ],
      "metadata": {
        "id": "TQucHqAk5t3J"
      }
    },
    {
      "cell_type": "code",
      "source": [
        "# Convert 'SeniorCitizen' to boolean\n",
        "df['SeniorCitizen'] = df['SeniorCitizen'].astype(bool)"
      ],
      "metadata": {
        "id": "el-WW0yO5Oy_"
      },
      "execution_count": null,
      "outputs": []
    },
    {
      "cell_type": "markdown",
      "source": [
        "# Normalize/standardize numerical features"
      ],
      "metadata": {
        "id": "uAGB3nA7510V"
      }
    },
    {
      "cell_type": "code",
      "source": [
        "numerical_features = ['tenure', 'MonthlyCharges', 'TotalCharges']\n",
        "scaler = StandardScaler()\n",
        "df[numerical_features] = scaler.fit_transform(df[numerical_features])"
      ],
      "metadata": {
        "id": "f6JT2noS5Ra4"
      },
      "execution_count": null,
      "outputs": []
    },
    {
      "cell_type": "markdown",
      "source": [
        "# Encode categorical features"
      ],
      "metadata": {
        "id": "OrIRPINo59DA"
      }
    },
    {
      "cell_type": "code",
      "source": [
        "categorical_features = ['gender', 'Partner', 'Dependents', 'PhoneService', 'MultipleLines',\n",
        "                        'InternetService', 'OnlineSecurity', 'OnlineBackup', 'DeviceProtection',\n",
        "                        'TechSupport', 'StreamingTV', 'StreamingMovies', 'Contract',\n",
        "                        'PaperlessBilling', 'PaymentMethod']"
      ],
      "metadata": {
        "id": "M4H6AvUb5T6L"
      },
      "execution_count": null,
      "outputs": []
    },
    {
      "cell_type": "code",
      "source": [
        "df = pd.get_dummies(df, columns=categorical_features, drop_first=True)"
      ],
      "metadata": {
        "id": "Zwe8xQmt5W4y"
      },
      "execution_count": null,
      "outputs": []
    },
    {
      "cell_type": "markdown",
      "source": [
        "# Encode the target variable 'Churn'"
      ],
      "metadata": {
        "id": "chNZFfqY6CI8"
      }
    },
    {
      "cell_type": "code",
      "source": [
        "label_encoder = LabelEncoder()\n",
        "df['Churn'] = label_encoder.fit_transform(df['Churn'])"
      ],
      "metadata": {
        "id": "wg2oAB_J6GOI"
      },
      "execution_count": null,
      "outputs": []
    },
    {
      "cell_type": "code",
      "source": [
        "# Print the column names to ensure correct references\n",
        "print(\"Column names after encoding:\")\n",
        "print(df.columns)"
      ],
      "metadata": {
        "colab": {
          "base_uri": "https://localhost:8080/"
        },
        "id": "jtUuN7D76qjU",
        "outputId": "d736afed-fd07-4df8-89eb-78b7f1b554c5"
      },
      "execution_count": null,
      "outputs": [
        {
          "output_type": "stream",
          "name": "stdout",
          "text": [
            "Column names after encoding:\n",
            "Index(['customerID', 'SeniorCitizen', 'tenure', 'MonthlyCharges',\n",
            "       'TotalCharges', 'Churn', 'gender_Male', 'Partner_Yes', 'Dependents_Yes',\n",
            "       'PhoneService_Yes', 'MultipleLines_No phone service',\n",
            "       'MultipleLines_Yes', 'InternetService_Fiber optic',\n",
            "       'InternetService_No', 'OnlineSecurity_No internet service',\n",
            "       'OnlineSecurity_Yes', 'OnlineBackup_No internet service',\n",
            "       'OnlineBackup_Yes', 'DeviceProtection_No internet service',\n",
            "       'DeviceProtection_Yes', 'TechSupport_No internet service',\n",
            "       'TechSupport_Yes', 'StreamingTV_No internet service', 'StreamingTV_Yes',\n",
            "       'StreamingMovies_No internet service', 'StreamingMovies_Yes',\n",
            "       'Contract_One year', 'Contract_Two year', 'PaperlessBilling_Yes',\n",
            "       'PaymentMethod_Credit card', 'PaymentMethod_Electronic check',\n",
            "       'PaymentMethod_Mailed check'],\n",
            "      dtype='object')\n"
          ]
        }
      ]
    },
    {
      "cell_type": "markdown",
      "source": [
        "# Feature engineering"
      ],
      "metadata": {
        "id": "8ZaRM-586JaU"
      }
    },
    {
      "cell_type": "code",
      "source": [
        "# Creating a feature indicating whether the customer has multiple services\n",
        "service_columns = [col for col in df.columns if any(service in col for service in ['OnlineSecurity', 'OnlineBackup', 'DeviceProtection', 'TechSupport', 'StreamingTV', 'StreamingMovies']) and 'No' in col]\n",
        "df['MultipleServices'] = df[service_columns].sum(axis=1)"
      ],
      "metadata": {
        "id": "YwWxaPbi6O6Q"
      },
      "execution_count": null,
      "outputs": []
    },
    {
      "cell_type": "code",
      "source": [
        "# Splitting the data into training and testing sets\n",
        "X = df.drop(columns=['customerID', 'Churn'])\n",
        "y = df['Churn']\n",
        "X_train, X_test, y_train, y_test = train_test_split(X, y, test_size=0.2, random_state=42)"
      ],
      "metadata": {
        "id": "PtEQ19cH60Fy"
      },
      "execution_count": null,
      "outputs": []
    },
    {
      "cell_type": "code",
      "source": [
        "# Save the processed data\n",
        "X_train.to_csv('X_train.csv', index=False)\n",
        "X_test.to_csv('X_test.csv', index=False)\n",
        "y_train.to_csv('y_train.csv', index=False)\n",
        "y_test.to_csv('y_test.csv', index=False)"
      ],
      "metadata": {
        "id": "x8ulFEEn65hj"
      },
      "execution_count": null,
      "outputs": []
    }
  ]
}